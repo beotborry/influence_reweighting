{
 "cells": [
  {
   "cell_type": "code",
   "execution_count": 2,
   "id": "30c13774-3b18-4e1a-8a10-cdc72fbc9504",
   "metadata": {},
   "outputs": [],
   "source": [
    "import matplotlib.pyplot as plt\n",
    "import numpy as np\n",
    "import pickle"
   ]
  },
  {
   "cell_type": "code",
   "execution_count": 3,
   "id": "3ec258b3-9d89-4fc6-9def-48976253cbed",
   "metadata": {},
   "outputs": [],
   "source": [
    "sen_attr_dict = {\n",
    "    'adult': 'sex',\n",
    "    'compas': 'sex',\n",
    "    'bank': 'age',\n",
    "    'retiring_adult': 'race',\n",
    "    'retiring_adult_coverage': 'race'\n",
    "}"
   ]
  },
  {
   "cell_type": "code",
   "execution_count": 48,
   "id": "9fbf9a50-9eb3-499d-976c-655b3f7afe91",
   "metadata": {},
   "outputs": [],
   "source": [
    "dataset = 'adult'\n",
    "sen_attr = sen_attr_dict[dataset]\n",
    "option = 'fair_only' # 'fair_only', 'intersect'\n",
    "constraint = 'eopp'\n",
    "if dataset == \"compas\":\n",
    "    k_arr = np.arange(1, 21, 1)\n",
    "else:\n",
    "    k_arr = np.concatenate((np.arange(0.1, 1.1, 0.1), np.arange(1, 21, 1)))\n",
    "#k_arr = np.arange(0.1, 1.1, 0.1) # np.arange(0.1, 1.1, 0.1) or np.arange(1, 21, 1)\n",
    "#k_arr = np.arange(1, 21, 1)\n",
    "seed = 0"
   ]
  },
  {
   "cell_type": "code",
   "execution_count": 61,
   "id": "9b27ef48-d9d9-4b12-b64e-b0a5962353fe",
   "metadata": {},
   "outputs": [],
   "source": [
    "with open(\"./influence_score/intersect/{}_influence_score_seed_{}_sen_attr_{}.txt\".format(dataset, seed, sen_attr), \"rb\") as fp:\n",
    "    influence_scores = pickle.load(fp)\n",
    "    influence_scores = np.array(influence_scores)\n",
    "    \n"
   ]
  },
  {
   "cell_type": "code",
   "execution_count": 76,
   "id": "e258fbca-2162-4c2d-9830-89820b2a6dc1",
   "metadata": {},
   "outputs": [
    {
     "name": "stdout",
     "output_type": "stream",
     "text": [
      "14089\n",
      "0.06671234965324402\n"
     ]
    }
   ],
   "source": [
    "print(influence_scores.argmax())\n",
    "print(influence_scores.max())"
   ]
  },
  {
   "cell_type": "code",
   "execution_count": 63,
   "id": "d3b5abe1-ef8b-4a8c-8a9e-97ccbf95bdbc",
   "metadata": {},
   "outputs": [
    {
     "data": {
      "text/plain": [
       "array([ 5582, 18257, 14448, 10806, 23311, 22461, 22905, 20921, 21192,\n",
       "       14212, 28420,  1376, 21765,  6577, 14602, 13203,  9860, 26599,\n",
       "       24608,  1188,  6733,  8849, 28571, 12762, 18313, 10674,  5953,\n",
       "       22191, 28586, 15327,  8271, 19116, 19037, 28225, 26034, 12622,\n",
       "        1177, 13545, 16063,  6319, 24068,  3586,  2447, 10136, 17199,\n",
       "       25502, 27602,  9548, 13928, 18583, 12315, 28648,  9046, 25873,\n",
       "       12300, 27054,  1710, 13956,  1036, 13255, 28530, 14089,  2729,\n",
       "        6786,  5052,  7630,  8019, 23286, 27691,  9995, 14217,  4627,\n",
       "        4767, 27693,  3791, 21890,  7268, 14788,  1304, 27890,  7257,\n",
       "       10111, 12199, 24719, 16333, 25688,  2204,  3752, 14462,  3412,\n",
       "       20900, 21746, 23817,  2613,  1382, 26457,  5571, 12660, 18769,\n",
       "       25312])"
      ]
     },
     "execution_count": 63,
     "metadata": {},
     "output_type": "execute_result"
    }
   ],
   "source": [
    "np.argpartition(influence_scores, -100)[-100:]"
   ]
  },
  {
   "cell_type": "code",
   "execution_count": 64,
   "id": "2bf57914-7689-4e06-89cb-9e685178e497",
   "metadata": {},
   "outputs": [],
   "source": [
    "with open(\"./influence_score/fair_only/{}_eo_influence_score_seed_{}_sen_attr_{}.txt\".format(dataset, seed, sen_attr), \"rb\") as fp:\n",
    "    influence_scores_eo = pickle.load(fp)\n",
    "    influence_scores_eo = np.array(influence_scores_eo)"
   ]
  },
  {
   "cell_type": "code",
   "execution_count": 65,
   "id": "a6312ff2-07ad-4bc3-b3be-fe6444576a21",
   "metadata": {},
   "outputs": [
    {
     "data": {
      "text/plain": [
       "array([ 5582, 18257, 14448, 10806, 23311, 22461, 22905, 20921, 21192,\n",
       "       14212, 28420,  1376, 21765,  6577, 14602, 13203,  9860, 26599,\n",
       "       24608,  1188,  6733,  8849, 28571, 12762, 18313, 10674,  5953,\n",
       "       22191, 28586, 15327,  8271, 19116, 19037, 28225, 26034, 12622,\n",
       "        1177, 13545, 16063,  6319, 24068,  3586,  2447, 10136, 17199,\n",
       "       25502, 27602,  9548, 13928, 18583, 12315, 28648,  9046, 25873,\n",
       "       12300, 27054,  1710, 13956,  1036, 13255, 28530, 14089,  2729,\n",
       "        6786,  5052,  7630,  8019, 23286, 27691,  9995, 14217,  4627,\n",
       "        4767, 27693,  3791, 21890,  7268, 14788,  1304, 27890,  7257,\n",
       "       10111, 12199, 24719, 16333, 25688,  2204,  3752, 14462,  3412,\n",
       "       20900, 21746, 23817,  2613,  1382, 26457,  5571, 12660, 18769,\n",
       "       25312])"
      ]
     },
     "execution_count": 65,
     "metadata": {},
     "output_type": "execute_result"
    }
   ],
   "source": [
    "np.argpartition(influence_scores_eo, -100)[-100:]"
   ]
  },
  {
   "cell_type": "code",
   "execution_count": 66,
   "id": "5b6342d9-c2f3-462a-9077-5bbe7bdd1553",
   "metadata": {},
   "outputs": [
    {
     "name": "stdout",
     "output_type": "stream",
     "text": [
      "0.06671234965324402\n"
     ]
    }
   ],
   "source": [
    "print(influence_scores_eo.max())"
   ]
  },
  {
   "cell_type": "code",
   "execution_count": 67,
   "id": "a20a8253-af0d-40ef-9e06-1281b4429af1",
   "metadata": {},
   "outputs": [],
   "source": [
    "with open(\"./influence_score/intersect/{}_val_loss_influence_score_seed_{}_sen_attr_{}.txt\".format(dataset, seed, sen_attr), \"rb\") as fp:\n",
    "    influence_scores_val = pickle.load(fp)\n",
    "    influence_scores_val = np.array(influence_scores_val)\n",
    "    \n",
    "\n"
   ]
  },
  {
   "cell_type": "code",
   "execution_count": 77,
   "id": "48e16b0c-a762-4878-a844-65fa70226f64",
   "metadata": {},
   "outputs": [
    {
     "name": "stdout",
     "output_type": "stream",
     "text": [
      "3035\n",
      "0.0003888287174049765\n"
     ]
    }
   ],
   "source": [
    "print(influence_scores_val.argmin())\n",
    "print(influence_scores_val[14089])"
   ]
  },
  {
   "cell_type": "code",
   "execution_count": 81,
   "id": "d8f379dc-98f9-4fa8-ab70-c72e557803a7",
   "metadata": {},
   "outputs": [
    {
     "name": "stdout",
     "output_type": "stream",
     "text": [
      "[    0     1     3 ... 28937 28939 28940]\n"
     ]
    }
   ],
   "source": [
    "fair_pos_idx = np.where(influence_scores > 0)[0]\n",
    "# print(np.where(influence_scores > 0)[0])\n",
    "\n",
    "val_pos_idx = np.where(influence_scores_val > 0)[0]\n"
   ]
  },
  {
   "cell_type": "code",
   "execution_count": null,
   "id": "d35a34cf-db2c-4573-b336-961a91407b30",
   "metadata": {},
   "outputs": [],
   "source": [
    "print(np.where())"
   ]
  }
 ],
 "metadata": {
  "kernelspec": {
   "display_name": "Python 3",
   "language": "python",
   "name": "python3"
  },
  "language_info": {
   "codemirror_mode": {
    "name": "ipython",
    "version": 3
   },
   "file_extension": ".py",
   "mimetype": "text/x-python",
   "name": "python",
   "nbconvert_exporter": "python",
   "pygments_lexer": "ipython3",
   "version": "3.8.8"
  }
 },
 "nbformat": 4,
 "nbformat_minor": 5
}
