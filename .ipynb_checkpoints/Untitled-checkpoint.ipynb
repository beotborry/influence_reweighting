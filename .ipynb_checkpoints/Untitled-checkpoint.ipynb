{
 "cells": [
  {
   "cell_type": "code",
   "execution_count": 1,
   "id": "30c13774-3b18-4e1a-8a10-cdc72fbc9504",
   "metadata": {},
   "outputs": [],
   "source": [
    "import matplotlib.pyplot as plt\n",
    "import numpy as np\n",
    "import pickle"
   ]
  },
  {
   "cell_type": "code",
   "execution_count": 2,
   "id": "3ec258b3-9d89-4fc6-9def-48976253cbed",
   "metadata": {},
   "outputs": [],
   "source": [
    "sen_attr_dict = {\n",
    "    'adult': 'sex',\n",
    "    'compas': 'sex',\n",
    "    'bank': 'age',\n",
    "    'retiring_adult': 'race',\n",
    "    'retiring_adult_coverage': 'race'\n",
    "}"
   ]
  },
  {
   "cell_type": "code",
   "execution_count": 3,
   "id": "9fbf9a50-9eb3-499d-976c-655b3f7afe91",
   "metadata": {},
   "outputs": [],
   "source": [
    "dataset = 'adult'\n",
    "sen_attr = sen_attr_dict[dataset]\n",
    "option = 'fair_only' # 'fair_only', 'intersect'\n",
    "constraint = 'eo'\n",
    "if dataset == \"compas\":\n",
    "    k_arr = np.arange(1, 21, 1)\n",
    "else:\n",
    "    k_arr = np.concatenate((np.arange(0.1, 1.1, 0.1), np.arange(1, 21, 1)))\n",
    "#k_arr = np.arange(0.1, 1.1, 0.1) # np.arange(0.1, 1.1, 0.1) or np.arange(1, 21, 1)\n",
    "#k_arr = np.arange(1, 21, 1)\n",
    "seed = 0"
   ]
  },
  {
   "cell_type": "code",
   "execution_count": 5,
   "id": "2769c31a-fcbc-4b1b-9064-4f88b76da3d2",
   "metadata": {},
   "outputs": [
    {
     "name": "stdout",
     "output_type": "stream",
     "text": [
      "[[0.07025684 0.99714326]\n",
      " [0.24206151 0.64771602]]\n"
     ]
    }
   ],
   "source": [
    "with open(f\"./influence_score/fair_only_split/{dataset}_{constraint}_influence_score_seed_{seed}_sen_attr_{sen_attr}_group0_label0.txt\", \"rb\") as fp:\n",
    "    influence_g0l0 = pickle.load(fp)\n",
    "    \n",
    "with open(f\"./influence_score/fair_only_split/{dataset}_{constraint}_influence_score_seed_{seed}_sen_attr_{sen_attr}_group0_label1.txt\", \"rb\") as fp:\n",
    "    influence_g0l1= pickle.load(fp)\n",
    "    \n",
    "with open(f\"./influence_score/fair_only_split/{dataset}_{constraint}_influence_score_seed_{seed}_sen_attr_{sen_attr}_group1_label0.txt\", \"rb\") as fp:\n",
    "    influence_g1l0 = pickle.load(fp)\n",
    "    \n",
    "with open(f\"./influence_score/fair_only_split/{dataset}_{constraint}_influence_score_seed_{seed}_sen_attr_{sen_attr}_group1_label1.txt\", \"rb\") as fp:\n",
    "    influence_g1l1 = pickle.load(fp)\n",
    "\n",
    "with open(f\"./influence_score/fair_only_split/{dataset}_{constraint}_loss_info_seed_{seed}_sen_attr_{sen_attr}.txt\", \"rb\") as fp:\n",
    "    print(pickle.load(fp))\n",
    "    "
   ]
  },
  {
   "cell_type": "code",
   "execution_count": 7,
   "id": "373fc800-ac86-4340-8402-bf2302e30d40",
   "metadata": {},
   "outputs": [
    {
     "data": {
      "text/plain": [
       "array([-5.11681606e-07, -4.13593007e-05, -1.11839454e-05, ...,\n",
       "        1.77376182e-03,  6.61523445e-05,  2.32232778e-04])"
      ]
     },
     "execution_count": 7,
     "metadata": {},
     "output_type": "execute_result"
    }
   ],
   "source": []
  },
  {
   "cell_type": "code",
   "execution_count": 9,
   "id": "f80f090f-8722-414b-8a32-bfdb4e613e7a",
   "metadata": {},
   "outputs": [
    {
     "name": "stdout",
     "output_type": "stream",
     "text": [
      "[0.9971432590240504, 0.6477160224578795]\n"
     ]
    }
   ],
   "source": [
    "with open(f\"./influence_score/fair_only_split/{dataset}_{constraint}_influence_score_seed_{seed}_sen_attr_{sen_attr}_group0.txt\", \"rb\") as fp:\n",
    "    influence_g0 = pickle.load(fp)\n",
    "    \n",
    "with open(f\"./influence_score/fair_only_split/{dataset}_{constraint}_influence_score_seed_{seed}_sen_attr_{sen_attr}_group1.txt\", \"rb\") as fp:\n",
    "    influence_g1 = pickle.load(fp)\n",
    "\n",
    "with open(f\"./influence_score/fair_only_split/{dataset}_{constraint}_loss_info_seed_{seed}_sen_attr_{sen_attr}.txt\", \"rb\") as fp:\n",
    "    print(pickle.load(fp))\n",
    "    "
   ]
  },
  {
   "cell_type": "code",
   "execution_count": 10,
   "id": "807861b0-fd47-4ab8-986d-c29499da5429",
   "metadata": {},
   "outputs": [
    {
     "name": "stdout",
     "output_type": "stream",
     "text": [
      "20363\n",
      "351\n",
      "1295\n",
      "6932\n",
      "--------------------------------------------------\n",
      "203\n",
      "68\n",
      "0\n",
      "18\n"
     ]
    }
   ],
   "source": [
    "# adult case\n",
    "diff = influence_g0 - influence_g1\n",
    "# diff = influence_g1 - influence_g0\n",
    "diff_rank = np.argsort(diff)\n",
    "# print(diff_rank)\n",
    "# print(diff_abs[14089])\n",
    "\n",
    "\n",
    "k = 1\n",
    "remove_num = int(k * 28941 * 0.01)\n",
    "top_k_idx = np.argpartition(diff, -remove_num)[-remove_num:]\n",
    "\n",
    "pp_idx = np.intersect1d(np.where(influence_g0 > 0)[0], np.where(influence_g1 > 0)[0])\n",
    "# print(pp_idx)\n",
    "\n",
    "pn_idx = np.intersect1d(np.where(influence_g0 > 0)[0], np.where(influence_g1 < 0)[0])\n",
    "np_idx = np.intersect1d(np.where(influence_g0 < 0)[0], np.where(influence_g1 > 0)[0])\n",
    "nn_idx = np.intersect1d(np.where(influence_g0 < 0)[0], np.where(influence_g1 < 0)[0])\n",
    "\n",
    "print(len(pp_idx))\n",
    "print(len(pn_idx))\n",
    "print(len(np_idx))\n",
    "print(len(nn_idx))\n",
    "\n",
    "print(\"-\"*50)\n",
    "print(len(np.intersect1d(pp_idx, top_k_idx)))\n",
    "print(len(np.intersect1d(pn_idx, top_k_idx)))\n",
    "print(len(np.intersect1d(np_idx, top_k_idx)))\n",
    "print(len(np.intersect1d(nn_idx, top_k_idx)))\n"
   ]
  },
  {
   "cell_type": "code",
   "execution_count": 11,
   "id": "95e84318-37bb-43bb-9ecf-e3695002f20c",
   "metadata": {},
   "outputs": [
    {
     "name": "stdout",
     "output_type": "stream",
     "text": [
      "20363\n",
      "351\n",
      "1295\n",
      "6932\n",
      "--------------------------------------------------\n",
      "20183\n",
      "351\n",
      "1270\n",
      "5953\n"
     ]
    }
   ],
   "source": [
    "# retiring adult case\n",
    "diff = influence_g0 - influence_g1\n",
    "\n",
    "k = 3\n",
    "remove_num = int(k * 925247 * 0.01)\n",
    "top_k_idx = np.argpartition(diff, -remove_num)[-remove_num:]\n",
    "\n",
    "pp_idx = np.intersect1d(np.where(influence_g0 > 0)[0], np.where(influence_g1 > 0)[0])\n",
    "# print(pp_idx)\n",
    "\n",
    "pn_idx = np.intersect1d(np.where(influence_g0 > 0)[0], np.where(influence_g1 < 0)[0])\n",
    "np_idx = np.intersect1d(np.where(influence_g0 < 0)[0], np.where(influence_g1 > 0)[0])\n",
    "nn_idx = np.intersect1d(np.where(influence_g0 < 0)[0], np.where(influence_g1 < 0)[0])\n",
    "\n",
    "print(len(pp_idx))\n",
    "print(len(pn_idx))\n",
    "print(len(np_idx))\n",
    "print(len(nn_idx))\n",
    "\n",
    "print(\"-\"*50)\n",
    "print(len(np.intersect1d(pp_idx, top_k_idx)))\n",
    "print(len(np.intersect1d(pn_idx, top_k_idx)))\n",
    "print(len(np.intersect1d(np_idx, top_k_idx)))\n",
    "print(len(np.intersect1d(nn_idx, top_k_idx)))\n"
   ]
  },
  {
   "cell_type": "code",
   "execution_count": 12,
   "id": "8e9e6e67-9a06-4872-9764-8ccc078d7ed3",
   "metadata": {},
   "outputs": [
    {
     "name": "stdout",
     "output_type": "stream",
     "text": [
      "20363\n",
      "351\n",
      "1295\n",
      "6932\n",
      "--------------------------------------------------\n",
      "18504\n",
      "61\n",
      "1295\n",
      "4605\n"
     ]
    }
   ],
   "source": [
    "# retiring adult coverage case\n",
    "diff = influence_g1 - influence_g0\n",
    "\n",
    "k = 4\n",
    "remove_num = int(k * 611640 * 0.01)\n",
    "top_k_idx = np.argpartition(diff, -remove_num)[-remove_num:]\n",
    "\n",
    "pp_idx = np.intersect1d(np.where(influence_g0 > 0)[0], np.where(influence_g1 > 0)[0])\n",
    "# print(pp_idx)\n",
    "\n",
    "pn_idx = np.intersect1d(np.where(influence_g0 > 0)[0], np.where(influence_g1 < 0)[0])\n",
    "np_idx = np.intersect1d(np.where(influence_g0 < 0)[0], np.where(influence_g1 > 0)[0])\n",
    "nn_idx = np.intersect1d(np.where(influence_g0 < 0)[0], np.where(influence_g1 < 0)[0])\n",
    "\n",
    "print(len(pp_idx))\n",
    "print(len(pn_idx))\n",
    "print(len(np_idx))\n",
    "print(len(nn_idx))\n",
    "\n",
    "print(\"-\"*50)\n",
    "print(len(np.intersect1d(pp_idx, top_k_idx)))\n",
    "print(len(np.intersect1d(pn_idx, top_k_idx)))\n",
    "print(len(np.intersect1d(np_idx, top_k_idx)))\n",
    "print(len(np.intersect1d(nn_idx, top_k_idx)))\n"
   ]
  },
  {
   "cell_type": "code",
   "execution_count": 13,
   "id": "f02ca61e-bcbe-4b2a-8486-dd376534dd45",
   "metadata": {},
   "outputs": [
    {
     "name": "stdout",
     "output_type": "stream",
     "text": [
      "20363\n",
      "351\n",
      "1295\n",
      "6932\n",
      "--------------------------------------------------\n",
      "0\n",
      "0\n",
      "0\n",
      "315\n",
      "--------------------------------------------------\n",
      "-8.64215885847807\n",
      "-1.64895157009596\n",
      "--------------------------------------------------\n",
      "0\n",
      "0\n"
     ]
    }
   ],
   "source": [
    "# compas case\n",
    "# diff = influence_g0 - influence_g1\n",
    "diff = influence_g1 - influence_g0\n",
    "diff_rank = np.argsort(diff)\n",
    "# print(diff_rank)\n",
    "# print(diff_abs[14089])\n",
    "\n",
    "\n",
    "k = 8\n",
    "remove_num = int(k * 3946 * 0.01)\n",
    "top_k_idx = np.argpartition(diff, -remove_num)[-remove_num:]\n",
    "\n",
    "pp_idx = np.intersect1d(np.where(influence_g0 > 0)[0], np.where(influence_g1 > 0)[0])\n",
    "# print(pp_idx)\n",
    "\n",
    "pn_idx = np.intersect1d(np.where(influence_g0 > 0)[0], np.where(influence_g1 < 0)[0])\n",
    "np_idx = np.intersect1d(np.where(influence_g0 < 0)[0], np.where(influence_g1 > 0)[0])\n",
    "nn_idx = np.intersect1d(np.where(influence_g0 < 0)[0], np.where(influence_g1 < 0)[0])\n",
    "\n",
    "print(len(pp_idx))\n",
    "print(len(pn_idx))\n",
    "print(len(np_idx))\n",
    "print(len(nn_idx))\n",
    "\n",
    "print(\"-\"*50)\n",
    "pp_top_idx = np.intersect1d(pp_idx, top_k_idx)\n",
    "nn_top_idx = np.intersect1d(nn_idx, top_k_idx)\n",
    "\n",
    "print(len(np.intersect1d(pp_idx, top_k_idx)))\n",
    "print(len(np.intersect1d(pn_idx, top_k_idx)))\n",
    "print(len(np.intersect1d(np_idx, top_k_idx)))\n",
    "print(len(np.intersect1d(nn_idx, top_k_idx)))\n",
    "\n",
    "print(\"-\"*50)\n",
    "print(np.sum(influence_g0[pp_top_idx]) + np.sum(influence_g0[nn_top_idx]))\n",
    "print(np.sum(influence_g1[pp_top_idx]) + np.sum(influence_g1[nn_top_idx]))\n",
    "\n",
    "print(\"-\"*50)\n",
    "print(len(np.where((influence_g0[pp_top_idx] - influence_g1[pp_top_idx]) > 0)[0]))\n",
    "print(len(np.where((influence_g0[pp_top_idx] - influence_g1[pp_top_idx]) < 0)[0])) # 이 데이터를 빼면서 group1 loss 감소가 더 크다고 기대할 수 있음\n",
    "# 결과를 보면 빠지는 모든 pp가 빠지게 되면서 g1의 loss를 더 크게 감소시킬 것이라고 기대됨. 단 g0의 loss도 같이 감소시키긴 하나 같이 감소를 함. \n",
    "# influence score만 봤을때는 차이가 줄어들어야 함.\n",
    "\n",
    "# pp만 빠지기 때문에 test set을 봤을때 두 그룹의 tpr이 증가하는 경향을 보이는듯. 다만 targeting 하는 loss가 y=1인 data에 한정되어있기 때문에 전체적인 acc은 감소하는 듯\n",
    "# 결국 전체적인 acc도 고려를 해야하는 듯.\n",
    "\n",
    "# adult의 경우에는 pn data도 포함이 되어있음. 이 때문에 tpr이 지속적으로 증가하지는 않는듯 \n",
    "\n",
    "\n",
    "\n",
    "# print(\"-\"*50)\n",
    "# print(np.mean(abs(influence_g0[pp_idx] + influence_g1[pp_idx])))\n",
    "# print(np.mean(abs(influence_g0[nn_idx] + influence_g1[nn_idx])))\n",
    "\n",
    "# import matplotlib.pyplot as plt\n",
    "# plt.hist(abs(influence_g0[pp_idx]) + abs(influence_g1[pp_idx]))\n",
    "# plt.show()\n",
    "# plt.hist(abs(influence_g0[nn_idx]) + abs(influence_g1[nn_idx]))\n",
    "\n",
    "\n"
   ]
  },
  {
   "cell_type": "code",
   "execution_count": 4,
   "id": "2bf57914-7689-4e06-89cb-9e685178e497",
   "metadata": {},
   "outputs": [],
   "source": [
    "with open(\"./influence_score/fair_only/{}_eopp_influence_score_seed_{}_sen_attr_{}.txt\".format(dataset, seed, sen_attr), \"rb\") as fp:\n",
    "    influence_scores = pickle.load(fp)\n",
    "    influence_scores= np.array(influence_scores)"
   ]
  },
  {
   "cell_type": "code",
   "execution_count": 15,
   "id": "a20a8253-af0d-40ef-9e06-1281b4429af1",
   "metadata": {},
   "outputs": [],
   "source": [
    "with open(\"./influence_score/intersect/{}_val_loss_influence_score_seed_{}_sen_attr_{}.txt\".format(dataset, seed, sen_attr), \"rb\") as fp:\n",
    "    influence_scores_val = pickle.load(fp)\n",
    "    influence_scores_val = np.array(influence_scores_val)\n",
    "    \n",
    "\n"
   ]
  },
  {
   "cell_type": "code",
   "execution_count": 16,
   "id": "7823d47f-8dd6-4e6c-8be8-3f7d3627e195",
   "metadata": {},
   "outputs": [
    {
     "name": "stdout",
     "output_type": "stream",
     "text": [
      "[0.11065098 0.1107722  0.11178938 0.11389789 0.11340404 0.11143183\n",
      " 0.11416928 0.11353771 0.11339893 0.11147714 0.11310624 0.11443478\n",
      " 0.11454987 0.11891236 0.11465563 0.11757928 0.11475855 0.11899263\n",
      " 0.1146313  0.11758537 0.11867297 0.11878037 0.11724737 0.1196144\n",
      " 0.12015546 0.1199382  0.11971054 0.12004658 0.1206047  0.2138889\n",
      " 0.15159431 0.12248994 0.13991721 0.15432185 0.12225018 0.13307949\n",
      " 0.12093882 0.13010615 0.17936271 0.13896653 0.14174421 0.19545963\n",
      " 0.12535309 0.14507222 0.14327882 0.13798997 0.13140612 0.12512636\n",
      " 0.12258867 0.13769651 0.16892008 0.14779    0.1324927  0.1596681\n",
      " 0.13116505 0.17096644 0.14458729 0.12371209 0.13521543 0.18772603\n",
      " 0.15628032 0.37422373 0.12566514 0.1280437  0.13402903 0.14019466\n",
      " 0.1902949  0.17251027 0.12112982 0.13435858 0.19827578 0.21078738\n",
      " 0.1308565  0.15596977 0.13643357 0.12152826 0.15586095 0.12140854\n",
      " 0.14513364 0.13941609 0.12735302 0.13896653 0.15076913 0.15447994\n",
      " 0.12408083 0.15878256 0.14868121 0.13829558 0.13245987 0.16158091\n",
      " 0.15069309 0.12075044 0.1424466  0.17718831 0.15255254 0.13751511\n",
      " 0.12819325 0.1499347  0.16937944 0.17698945]\n",
      "[0.03131623 0.03160521 0.03150208 0.03142921 0.03173629 0.03200093\n",
      " 0.03186579 0.03220086 0.03209799 0.03186768 0.03188707 0.03187744\n",
      " 0.03228592 0.03597168 0.12355871 0.034027   0.19475736 0.10476758\n",
      " 0.05023669 0.06658155 0.03301664 0.10286056 0.03458348 0.04367638\n",
      " 0.04310046 0.06530273 0.04491436 0.03513464 0.05424551 0.06954777\n",
      " 0.06382934 0.0333962  0.03505232 0.10625674 0.15061662 0.04334114\n",
      " 0.04313144 0.04269467 0.0407538  0.04087551 0.03857145 0.04191077\n",
      " 0.03364786 0.03843021 0.0333211  0.0322963  0.03993683 0.03796392\n",
      " 0.04993313 0.04057726 0.08183865 0.07026545 0.03271139 0.0325359\n",
      " 0.03976698 0.04830498 0.03838127 0.03481598 0.06052591 0.04028619\n",
      " 0.06846668 0.03658121 0.03442867 0.03351401 0.03859904 0.08513994\n",
      " 0.04180805 0.03847217 0.04682864 0.04584784 0.04480126 0.04376346\n",
      " 0.03881094 0.03675716 0.03347662 0.03453348 0.12517515 0.06849471\n",
      " 0.03433238 0.0391017  0.03551419 0.07221815 0.06258095 0.03232042\n",
      " 0.03342824 0.03320996 0.03430832 0.03229957 0.0334476  0.04951029\n",
      " 0.03465841 0.0514902  0.0504203  0.0436534  0.03392573 0.03476106\n",
      " 0.03678238 0.03584312 0.03696321 0.04589388]\n"
     ]
    }
   ],
   "source": [
    "fair_max = influence_scores.max()\n",
    "fair_min = influence_scores.min()\n",
    "\n",
    "influence_scores = influence_scores / (fair_max - fair_min)\n",
    "\n",
    "val_max = influence_scores_val.max()\n",
    "val_min = influence_scores_val.min()\n",
    "\n",
    "influence_scores_val = influence_scores_val / (val_max - val_min)\n",
    "\n",
    "\n",
    "print(influence_scores[np.argpartition(influence_scores, -100)[-100:]])\n",
    "print(influence_scores_val[np.argpartition(influence_scores_val, -100)[-100:]])"
   ]
  },
  {
   "cell_type": "code",
   "execution_count": 8,
   "id": "0fc2c6ff-fe47-43a3-b346-b12d25eaf1fe",
   "metadata": {},
   "outputs": [
    {
     "data": {
      "image/png": "[encoded data removed]",
      "text/plain": [
       "<Figure size 432x288 with 2 Axes>"
      ]
     },
     "metadata": {
      "needs_background": "light"
     },
     "output_type": "display_data"
    }
   ],
   "source": [
    "fig, axs = plt.subplots(1, 2, sharey=True, tight_layout=True)\n",
    "\n",
    "axs[0].hist(influence_scores, bins=50)\n",
    "axs[1].hist(influence_scores_val, bins=50)\n",
    "plt.show()"
   ]
  },
  {
   "cell_type": "code",
   "execution_count": 56,
   "id": "d27e46ea-f977-41ae-a78a-fe8341f5a787",
   "metadata": {},
   "outputs": [
    {
     "name": "stdout",
     "output_type": "stream",
     "text": [
      "0.0006476969574578106\n"
     ]
    }
   ],
   "source": [
    "print(influence_scores.max())"
   ]
  },
  {
   "cell_type": "code",
   "execution_count": 85,
   "id": "1dbb6213-04de-40af-a281-c8216bbaf425",
   "metadata": {},
   "outputs": [],
   "source": [
    "percent = 7.5\n",
    "\n",
    "k = int(925247 * percent / 100)\n",
    "top_k_idx = np.argpartition(influence_scores, -k)[-k:]"
   ]
  },
  {
   "cell_type": "code",
   "execution_count": 86,
   "id": "14e4e3e8-8692-431d-816e-cc6530da9a72",
   "metadata": {},
   "outputs": [
    {
     "name": "stdout",
     "output_type": "stream",
     "text": [
      "0.5285037347137403\n"
     ]
    }
   ],
   "source": [
    "print(influence_scores[top_k_idx].sum() * (percent/ 100))"
   ]
  },
  {
   "cell_type": "code",
   "execution_count": 87,
   "id": "8c56b1cc-5940-4343-970e-8376c7755bb7",
   "metadata": {},
   "outputs": [
    {
     "data": {
      "text/plain": [
       "'\\nadult eopp seed 0 vio: 0.09183438352503256\\nadult eopp seed 1 vio:  0.09087055553350085\\nadult eopp seed 2 vio: 0.0925707173419961\\n\\nretiring adult eopp seed 0 vio:  0.1792792501147395\\n\\n'"
      ]
     },
     "execution_count": 87,
     "metadata": {},
     "output_type": "execute_result"
    }
   ],
   "source": [
    "'''\n",
    "adult eopp seed 0 vio: 0.09183438352503256\n",
    "adult eopp seed 1 vio:  0.09087055553350085\n",
    "adult eopp seed 2 vio: 0.0925707173419961\n",
    "\n",
    "retiring adult eopp seed 0 vio:  0.1792792501147395\n",
    "\n",
    "'''"
   ]
  },
  {
   "cell_type": "code",
   "execution_count": null,
   "id": "81e50c0c-3b90-49cc-a6e8-fd777477c462",
   "metadata": {},
   "outputs": [],
   "source": []
  }
 ],
 "metadata": {
  "kernelspec": {
   "display_name": "Python 3 (ipykernel)",
   "language": "python",
   "name": "python3"
  },
  "language_info": {
   "codemirror_mode": {
    "name": "ipython",
    "version": 3
   },
   "file_extension": ".py",
   "mimetype": "text/x-python",
   "name": "python",
   "nbconvert_exporter": "python",
   "pygments_lexer": "ipython3",
   "version": "3.9.7"
  }
 },
 "nbformat": 4,
 "nbformat_minor": 5
}
