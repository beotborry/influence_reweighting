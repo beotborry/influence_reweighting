{
 "cells": [
  {
   "cell_type": "code",
   "execution_count": 1,
   "id": "30c13774-3b18-4e1a-8a10-cdc72fbc9504",
   "metadata": {},
   "outputs": [],
   "source": [
    "import matplotlib.pyplot as plt\n",
    "import numpy as np\n",
    "import pickle"
   ]
  },
  {
   "cell_type": "code",
   "execution_count": 2,
   "id": "3ec258b3-9d89-4fc6-9def-48976253cbed",
   "metadata": {},
   "outputs": [],
   "source": [
    "sen_attr_dict = {\n",
    "    'adult': 'sex',\n",
    "    'compas': 'sex',\n",
    "    'bank': 'age',\n",
    "    'retiring_adult': 'race',\n",
    "    'retiring_adult_coverage': 'race'\n",
    "}"
   ]
  },
  {
   "cell_type": "code",
   "execution_count": 3,
   "id": "9fbf9a50-9eb3-499d-976c-655b3f7afe91",
   "metadata": {},
   "outputs": [],
   "source": [
    "dataset = 'adult'\n",
    "sen_attr = sen_attr_dict[dataset]\n",
    "option = 'fair_only' # 'fair_only', 'intersect'\n",
    "constraint = 'eopp'\n",
    "if dataset == \"compas\":\n",
    "    k_arr = np.arange(1, 21, 1)\n",
    "else:\n",
    "    k_arr = np.concatenate((np.arange(0.1, 1.1, 0.1), np.arange(1, 21, 1)))\n",
    "#k_arr = np.arange(0.1, 1.1, 0.1) # np.arange(0.1, 1.1, 0.1) or np.arange(1, 21, 1)\n",
    "#k_arr = np.arange(1, 21, 1)\n",
    "seed = 0"
   ]
  },
  {
   "cell_type": "code",
   "execution_count": 4,
   "id": "2bf57914-7689-4e06-89cb-9e685178e497",
   "metadata": {},
   "outputs": [],
   "source": [
    "with open(\"./influence_score/fair_only/{}_eopp_influence_score_seed_{}_sen_attr_{}.txt\".format(dataset, seed, sen_attr), \"rb\") as fp:\n",
    "    influence_scores = pickle.load(fp)\n",
    "    influence_scores= np.array(influence_scores)"
   ]
  },
  {
   "cell_type": "code",
   "execution_count": 5,
   "id": "a20a8253-af0d-40ef-9e06-1281b4429af1",
   "metadata": {},
   "outputs": [],
   "source": [
    "with open(\"./influence_score/intersect/{}_val_loss_influence_score_seed_{}_sen_attr_{}.txt\".format(dataset, seed, sen_attr), \"rb\") as fp:\n",
    "    influence_scores_val = pickle.load(fp)\n",
    "    influence_scores_val = np.array(influence_scores_val)\n",
    "    \n",
    "\n"
   ]
  },
  {
   "cell_type": "code",
   "execution_count": 6,
   "id": "0fc2c6ff-fe47-43a3-b346-b12d25eaf1fe",
   "metadata": {},
   "outputs": [
    {
     "data": {
      "image/png": "[encoded data removed]",
      "text/plain": [
       "<Figure size 432x288 with 2 Axes>"
      ]
     },
     "metadata": {
      "needs_background": "light"
     },
     "output_type": "display_data"
    }
   ],
   "source": [
    "fig, axs = plt.subplots(1, 2, sharey=True, tight_layout=True)\n",
    "\n",
    "axs[0].hist(influence_scores, bins=50)\n",
    "axs[1].hist(influence_scores_val, bins=50)\n",
    "plt.show()"
   ]
  },
  {
   "cell_type": "code",
   "execution_count": 20,
   "id": "d27e46ea-f977-41ae-a78a-fe8341f5a787",
   "metadata": {},
   "outputs": [
    {
     "name": "stdout",
     "output_type": "stream",
     "text": [
      "0.06671234965324402\n"
     ]
    }
   ],
   "source": [
    "print(influence_scores.max())"
   ]
  },
  {
   "cell_type": "code",
   "execution_count": 45,
   "id": "1dbb6213-04de-40af-a281-c8216bbaf425",
   "metadata": {},
   "outputs": [],
   "source": [
    "percent = 1.3\n",
    "\n",
    "k = int(28941 * percent / 100)\n",
    "top_k_idx = np.argpartition(influence_scores, -k)[-k:]"
   ]
  },
  {
   "cell_type": "code",
   "execution_count": 46,
   "id": "14e4e3e8-8692-431d-816e-cc6530da9a72",
   "metadata": {},
   "outputs": [
    {
     "name": "stdout",
     "output_type": "stream",
     "text": [
      "0.08774323322903366\n"
     ]
    }
   ],
   "source": [
    "print(influence_scores[top_k_idx].sum() * (percent/ 100))"
   ]
  },
  {
   "cell_type": "code",
   "execution_count": 47,
   "id": "8c56b1cc-5940-4343-970e-8376c7755bb7",
   "metadata": {},
   "outputs": [
    {
     "data": {
      "text/plain": [
       "'\\nadult eopp seed 0 vio : 0.09183438352503256\\n'"
      ]
     },
     "execution_count": 47,
     "metadata": {},
     "output_type": "execute_result"
    }
   ],
   "source": [
    "'''\n",
    "adult eopp seed 0 vio: 0.09183438352503256\n",
    "adult eopp seed 1 vio:  0.09087055553350085\n",
    "adult eopp seed 2 vio: 0.0925707173419961\n",
    "\n",
    "'''"
   ]
  },
  {
   "cell_type": "code",
   "execution_count": null,
   "id": "81e50c0c-3b90-49cc-a6e8-fd777477c462",
   "metadata": {},
   "outputs": [],
   "source": []
  }
 ],
 "metadata": {
  "kernelspec": {
   "display_name": "Python 3",
   "language": "python",
   "name": "python3"
  },
  "language_info": {
   "codemirror_mode": {
    "name": "ipython",
    "version": 3
   },
   "file_extension": ".py",
   "mimetype": "text/x-python",
   "name": "python",
   "nbconvert_exporter": "python",
   "pygments_lexer": "ipython3",
   "version": "3.8.8"
  }
 },
 "nbformat": 4,
 "nbformat_minor": 5
}
