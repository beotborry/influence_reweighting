{
 "cells": [
  {
   "cell_type": "code",
   "execution_count": 3,
   "id": "30c13774-3b18-4e1a-8a10-cdc72fbc9504",
   "metadata": {},
   "outputs": [],
   "source": [
    "import matplotlib.pyplot as plt\n",
    "import numpy as np\n",
    "import pickle"
   ]
  },
  {
   "cell_type": "code",
   "execution_count": 4,
   "id": "3ec258b3-9d89-4fc6-9def-48976253cbed",
   "metadata": {},
   "outputs": [],
   "source": [
    "sen_attr_dict = {\n",
    "    'adult': 'sex',\n",
    "    'compas': 'sex',\n",
    "    'bank': 'age',\n",
    "    'retiring_adult': 'race',\n",
    "    'retiring_adult_coverage': 'race'\n",
    "}"
   ]
  },
  {
   "cell_type": "code",
   "execution_count": 5,
   "id": "9fbf9a50-9eb3-499d-976c-655b3f7afe91",
   "metadata": {},
   "outputs": [],
   "source": [
    "dataset = 'adult'\n",
    "sen_attr = sen_attr_dict[dataset]\n",
    "option = 'fair_only' # 'fair_only', 'intersect'\n",
    "constraint = 'eopp'\n",
    "if dataset == \"compas\":\n",
    "    k_arr = np.arange(1, 21, 1)\n",
    "else:\n",
    "    k_arr = np.concatenate((np.arange(0.1, 1.1, 0.1), np.arange(1, 21, 1)))\n",
    "#k_arr = np.arange(0.1, 1.1, 0.1) # np.arange(0.1, 1.1, 0.1) or np.arange(1, 21, 1)\n",
    "#k_arr = np.arange(1, 21, 1)\n",
    "seed = 0"
   ]
  },
  {
   "cell_type": "code",
   "execution_count": 8,
   "id": "2bf57914-7689-4e06-89cb-9e685178e497",
   "metadata": {},
   "outputs": [],
   "source": [
    "with open(\"./influence_score/fair_only/{}_eopp_influence_score_seed_{}_sen_attr_{}.txt\".format(dataset, seed, sen_attr), \"rb\") as fp:\n",
    "    influence_scores = pickle.load(fp)\n",
    "    influence_scores= np.array(influence_scores_eo)"
   ]
  },
  {
   "cell_type": "code",
   "execution_count": 9,
   "id": "a20a8253-af0d-40ef-9e06-1281b4429af1",
   "metadata": {},
   "outputs": [],
   "source": [
    "with open(\"./influence_score/intersect/{}_val_loss_influence_score_seed_{}_sen_attr_{}.txt\".format(dataset, seed, sen_attr), \"rb\") as fp:\n",
    "    influence_scores_val = pickle.load(fp)\n",
    "    influence_scores_val = np.array(influence_scores_val)\n",
    "    \n",
    "\n"
   ]
  },
  {
   "cell_type": "code",
   "execution_count": 11,
   "id": "0fc2c6ff-fe47-43a3-b346-b12d25eaf1fe",
   "metadata": {},
   "outputs": [
    {
     "name": "stdout",
     "output_type": "stream",
     "text": [
      "[False False False ... False False False]\n"
     ]
    }
   ],
   "source": [
    "print(influence_scores == influence_scores_val)"
   ]
  },
  {
   "cell_type": "code",
   "execution_count": 17,
   "id": "d27e46ea-f977-41ae-a78a-fe8341f5a787",
   "metadata": {},
   "outputs": [
    {
     "name": "stdout",
     "output_type": "stream",
     "text": [
      "[10210 18571  6378 ...   861 26475 21915]\n"
     ]
    }
   ],
   "source": [
    "tmp = influence_scores.argsort()\n",
    "ranks = np.empty_like(tmp)\n",
    "ranks[tmp] = np.arange(len(influence_scores))\n",
    "print(ranks)"
   ]
  },
  {
   "cell_type": "code",
   "execution_count": null,
   "id": "1dbb6213-04de-40af-a281-c8216bbaf425",
   "metadata": {},
   "outputs": [],
   "source": [
    "influence_scores = 0.5 * influence_scores + (1 - 0.5) * in"
   ]
  }
 ],
 "metadata": {
  "kernelspec": {
   "display_name": "Python 3",
   "language": "python",
   "name": "python3"
  },
  "language_info": {
   "codemirror_mode": {
    "name": "ipython",
    "version": 3
   },
   "file_extension": ".py",
   "mimetype": "text/x-python",
   "name": "python",
   "nbconvert_exporter": "python",
   "pygments_lexer": "ipython3",
   "version": "3.8.8"
  }
 },
 "nbformat": 4,
 "nbformat_minor": 5
}
