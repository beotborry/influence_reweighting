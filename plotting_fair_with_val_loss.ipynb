{
 "cells": [
  {
   "cell_type": "code",
   "execution_count": 1,
   "id": "deceff96-953f-4b97-9be3-ee60226f0949",
   "metadata": {},
   "outputs": [],
   "source": [
    "import matplotlib.pyplot as plt\n",
    "import numpy as np\n",
    "import pickle"
   ]
  },
  {
   "cell_type": "code",
   "execution_count": 2,
   "id": "f9724a51-b428-43ef-a35e-168af6122f93",
   "metadata": {},
   "outputs": [],
   "source": [
    "sen_attr_dict = {\n",
    "    'adult': 'sex',\n",
    "    'compas': 'sex',\n",
    "    'bank': 'age',\n",
    "    'retiring_adult': 'race',\n",
    "    'retiring_adult_coverage': 'race'\n",
    "}"
   ]
  },
  {
   "cell_type": "code",
   "execution_count": 3,
   "id": "6069f6db-468e-4c86-bf0a-a364db5b734a",
   "metadata": {},
   "outputs": [],
   "source": [
    "dataset = 'compas'\n",
    "sen_attr = sen_attr_dict[dataset]\n",
    "option = 'fair_with_val_loss' # 'fair_only', 'intersect'\n",
    "constraint = 'eopp'\n",
    "alpha_arr = np.arange(0.1, 1.1, 0.1)\n",
    "if dataset == \"compas\":\n",
    "    k_arr = np.arange(1, 21, 1)\n",
    "else:\n",
    "    k_arr = np.concatenate((np.arange(0.1, 1.1, 0.1), np.arange(1, 3, 1)))\n",
    "#k_arr = np.arange(0.1, 1.1, 0.1) # np.arange(0.1, 1.1, 0.1) or np.arange(1, 21, 1)\n",
    "#k_arr = np.arange(1, 21, 1)\n",
    "seed_arr = [0, 1, 2, 3, 4]"
   ]
  },
  {
   "cell_type": "code",
   "execution_count": 4,
   "id": "c235ab16-688f-4579-874b-521909259d3f",
   "metadata": {},
   "outputs": [
    {
     "name": "stdout",
     "output_type": "stream",
     "text": [
      "Average Trng Acc: 0.740481506634959, Average Trng Fair: 0.21431576487086595\n",
      "Average Val Acc: 0.6800405268490375, Average Val Fair: 0.3032926791422276\n",
      "Average Test Acc: 0.6813614262560778, Average Test Fair: 0.2324906090406449\n"
     ]
    }
   ],
   "source": [
    "# naive\n",
    "\n",
    "trng_acc_list = np.array([])\n",
    "trng_fair_list = np.array([])\n",
    "\n",
    "val_acc_list = np.array([])\n",
    "val_fair_list = np.array([])\n",
    "\n",
    "test_acc_list = np.array([])\n",
    "test_fair_list = np.array([])\n",
    "\n",
    "if constraint == \"eopp\":\n",
    "    filename = \"./log/fair_only/{}_seed_{}_sen_attr_{}_naive_log.txt\"\n",
    "elif constraint == \"eo\":\n",
    "    filename = \"./log/fair_only/{}_eo_seed_{}_sen_attr_{}_naive_log.txt\"\n",
    "\n",
    "for seed in seed_arr:\n",
    "    with open(filename.format(dataset, seed, sen_attr), \"rb\") as fp:\n",
    "        log = pickle.load(fp)\n",
    "        max_idx = np.argmax(np.array(log[0]))\n",
    "        \n",
    "        trng_acc_list = np.append(trng_acc_list, log[0][max_idx])\n",
    "        trng_fair_list = np.append(trng_fair_list, log[1][max_idx])\n",
    "        val_acc_list = np.append(val_acc_list, log[2][max_idx])\n",
    "        val_fair_list = np.append(val_fair_list, log[3][max_idx])\n",
    "        test_acc_list = np.append(test_acc_list, log[4][max_idx])\n",
    "        test_fair_list = np.append(test_fair_list, log[5][max_idx])\n",
    "        \n",
    "naive_trng_acc = np.mean(trng_acc_list)\n",
    "naive_trng_fair = np.mean(trng_fair_list)\n",
    "naive_val_acc = np.mean(val_acc_list)\n",
    "naive_val_fair = np.mean(val_fair_list)\n",
    "naive_test_acc = np.mean(test_acc_list)\n",
    "naive_test_fair = np.mean(test_fair_list)\n",
    "        \n",
    "print(f\"Average Trng Acc: {np.mean(trng_acc_list)}, Average Trng Fair: {np.mean(trng_fair_list)}\")\n",
    "print(f\"Average Val Acc: {np.mean(val_acc_list)}, Average Val Fair: {np.mean(val_fair_list)}\")\n",
    "print(f\"Average Test Acc: {np.mean(test_acc_list)}, Average Test Fair: {np.mean(test_fair_list)}\")\n",
    "    "
   ]
  },
  {
   "cell_type": "code",
   "execution_count": 11,
   "id": "0588e659-733f-41e3-bf01-b896b8624c2d",
   "metadata": {},
   "outputs": [],
   "source": [
    "# Top k Last Epoch\n",
    "\n",
    "'''\n",
    "log[0]: trng acc\n",
    "log[1]: trng fair\n",
    "log[2]: val acc\n",
    "log[3]: val fair\n",
    "log[4]: test acc\n",
    "log[5]: test fair\n",
    "'''\n",
    "\n",
    "val_acc_log = np.zeros((len(seed_arr), len(k_arr), len(alpha_arr)))\n",
    "val_fair_log = np.zeros((len(seed_arr), len(k_arr), len(alpha_arr)))\n",
    "test_acc_log = np.zeros((len(seed_arr), len(k_arr), len(alpha_arr)))\n",
    "test_fair_log = np.zeros((len(seed_arr), len(k_arr), len(alpha_arr)))\n",
    "\n",
    "\n",
    "epoch = 50\n",
    "if constraint == \"eopp\":\n",
    "    filename = \"./log/{}/{}_eopp_seed_{}_k_{:.1f}_alpha_{:.1f}_sen_attr_{}_acc_fair_log.txt\"\n",
    "elif constraint == \"eo\":\n",
    "    filename = \"./log/{}/{}_eo_seed_{}_k_{:.1f}_alpha_{:.1f}_sen_attr_{}_acc_fair_log.txt\"\n",
    "\n",
    "for seed_idx, seed in enumerate(seed_arr):\n",
    "    for k_idx, k in enumerate(k_arr):\n",
    "        for alpha_idx, alpha in enumerate(alpha_arr):\n",
    "            with open(filename.format(option, dataset, seed, k, alpha, sen_attr), \"rb\") as fp:\n",
    "                log = pickle.load(fp)\n",
    "                val_acc_log[seed_idx, k_idx, alpha_idx] = log[2][epoch - 1]\n",
    "                val_fair_log[seed_idx, k_idx, alpha_idx] = log[3][epoch - 1]\n",
    "                test_acc_log[seed_idx, k_idx, alpha_idx] = log[4][epoch - 1]\n",
    "                test_fair_log[seed_idx, k_idx, alpha_idx] = log[5][epoch - 1]\n",
    "\n",
    "# print(f\"Average Trng Acc: {np.mean(trng_acc_list)}, Average Trng Fair: {np.mean(trng_fair_list)}\")\n",
    "# print(f\"Average Val Acc: {np.mean(val_acc_list)}, Average Val Fair: {np.mean(val_fair_list)}\")\n",
    "# print(f\"Average Test Acc: {np.mean(test_acc_list)}, Average Test Fair: {np.mean(test_fair_list)}\")\n",
    "\n",
    "val_acc_log = np.mean(val_acc_log, axis=0)\n",
    "val_fair_log = np.mean(val_fair_log, axis=0)\n",
    "test_acc_log = np.mean(test_acc_log, axis=0)\n",
    "test_fair_log = np.mean(test_fair_log, axis=0)\n",
    "\n"
   ]
  },
  {
   "cell_type": "code",
   "execution_count": 37,
   "id": "8183307e-ec47-4539-84b8-9640f2f51ec7",
   "metadata": {},
   "outputs": [
    {
     "data": {
      "text/plain": [
       "<matplotlib.legend.Legend at 0x7f62106fda60>"
      ]
     },
     "execution_count": 37,
     "metadata": {},
     "output_type": "execute_result"
    },
    {
     "data": {
      "image/png": "[encoded data removed]",
      "text/plain": [
       "<Figure size 432x288 with 1 Axes>"
      ]
     },
     "metadata": {
      "needs_background": "light"
     },
     "output_type": "display_data"
    }
   ],
   "source": [
    "for k_idx, k in enumerate(k_arr):\n",
    "    if k_idx < 5:\n",
    "        plt.plot(val_fair_log[k_idx], label=k)\n",
    "    \n",
    "plt.legend()\n"
   ]
  },
  {
   "cell_type": "code",
   "execution_count": 21,
   "id": "d2f9068f-1276-465e-b42e-23f324636a47",
   "metadata": {},
   "outputs": [
    {
     "data": {
      "text/plain": [
       "[<matplotlib.lines.Line2D at 0x7f621125e4c0>]"
      ]
     },
     "execution_count": 21,
     "metadata": {},
     "output_type": "execute_result"
    },
    {
     "data": {
      "image/png": "[encoded data removed]",
      "text/plain": [
       "<Figure size 432x288 with 1 Axes>"
      ]
     },
     "metadata": {
      "needs_background": "light"
     },
     "output_type": "display_data"
    }
   ],
   "source": [
    "plt.plot(val_fair_log[9], \"o-\")"
   ]
  },
  {
   "cell_type": "code",
   "execution_count": 32,
   "id": "a72a16fb-d661-411b-8e86-1aa237f3883d",
   "metadata": {},
   "outputs": [
    {
     "name": "stdout",
     "output_type": "stream",
     "text": [
      "[0.09424945 0.01992986 0.00936598 0.02103466 0.04452099 0.04356516\n",
      " 0.04527822 0.04185209 0.04280793 0.04751885]\n"
     ]
    }
   ],
   "source": []
  },
  {
   "cell_type": "code",
   "execution_count": null,
   "id": "7f4483db-81ea-47c1-b10e-b4ec53b8a385",
   "metadata": {},
   "outputs": [],
   "source": []
  }
 ],
 "metadata": {
  "kernelspec": {
   "display_name": "Python 3",
   "language": "python",
   "name": "python3"
  },
  "language_info": {
   "codemirror_mode": {
    "name": "ipython",
    "version": 3
   },
   "file_extension": ".py",
   "mimetype": "text/x-python",
   "name": "python",
   "nbconvert_exporter": "python",
   "pygments_lexer": "ipython3",
   "version": "3.8.8"
  }
 },
 "nbformat": 4,
 "nbformat_minor": 5
}
